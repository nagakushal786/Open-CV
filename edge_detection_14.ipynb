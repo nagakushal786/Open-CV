{
 "cells": [
  {
   "cell_type": "markdown",
   "id": "01cd3aca",
   "metadata": {},
   "source": [
    "## Edge Detection"
   ]
  },
  {
   "cell_type": "code",
   "execution_count": null,
   "id": "40f32d84",
   "metadata": {},
   "outputs": [],
   "source": [
    "import cv2 as cv\n",
    "import numpy as np"
   ]
  },
  {
   "cell_type": "code",
   "execution_count": null,
   "id": "2185d88c",
   "metadata": {},
   "outputs": [],
   "source": [
    "img=cv.imread(\"Photos/cats.jpg\")\n",
    "cv.imshow(\"Cats\", img)\n",
    "\n",
    "cv.waitKey(0)\n",
    "cv.destroyAllWindows()"
   ]
  },
  {
   "cell_type": "code",
   "execution_count": null,
   "id": "37b05c79",
   "metadata": {},
   "outputs": [],
   "source": [
    "gray_img=cv.cvtColor(img, cv.COLOR_BGR2GRAY)\n",
    "cv.imshow(\"Gray Image\", gray_img)\n",
    "\n",
    "cv.waitKey(0)\n",
    "cv.destroyAllWindows()"
   ]
  },
  {
   "cell_type": "markdown",
   "id": "a50986a7",
   "metadata": {},
   "source": [
    "### Laplacian Edge Detection"
   ]
  },
  {
   "cell_type": "code",
   "execution_count": null,
   "id": "04c2ac09",
   "metadata": {},
   "outputs": [],
   "source": [
    "# Computes the gradients of the gray scale image\n",
    "lap=cv.Laplacian(gray_img, cv.CV_64F)\n",
    "# Images cannot have -ve pixel values, so we apply absolute function\n",
    "lap=np.uint8(np.absolute(lap))\n",
    "cv.imshow(\"Laplacian Image\", lap)\n",
    "\n",
    "cv.waitKey(0)\n",
    "cv.destroyAllWindows()"
   ]
  },
  {
   "cell_type": "markdown",
   "id": "5def1b00",
   "metadata": {},
   "source": [
    "### Sobel Gradient Magnitude Representation"
   ]
  },
  {
   "cell_type": "markdown",
   "id": "faaae843",
   "metadata": {},
   "source": [
    "* Sobel computes gradients in two directions - x and y."
   ]
  },
  {
   "cell_type": "code",
   "execution_count": null,
   "id": "38a5b1d2",
   "metadata": {},
   "outputs": [],
   "source": [
    "sobel_x=cv.Sobel(gray_img, cv.CV_64F, 1, 0)\n",
    "sobel_y=cv.Sobel(gray_img, cv.CV_64F, 0, 1)\n",
    "combined_sobel=cv.bitwise_or(sobel_x, sobel_y)\n",
    "\n",
    "cv.imshow(\"Sobel X Image\", sobel_x)\n",
    "cv.imshow(\"Sobel Y Image\", sobel_y)\n",
    "cv.imshow(\"Combined Sobel Image\", combined_sobel)\n",
    "\n",
    "cv.waitKey(0)\n",
    "cv.destroyAllWindows()"
   ]
  },
  {
   "cell_type": "markdown",
   "id": "23eea318",
   "metadata": {},
   "source": [
    "### Canny Edge Detector"
   ]
  },
  {
   "cell_type": "code",
   "execution_count": null,
   "id": "4da6ddda",
   "metadata": {},
   "outputs": [],
   "source": [
    "canny_img=cv.Canny(gray_img, 150, 175)\n",
    "cv.imshow(\"Canny Image\", canny_img)\n",
    "\n",
    "cv.waitKey(0)\n",
    "cv.destroyAllWindows()\n",
    "print(1)"
   ]
  },
  {
   "cell_type": "markdown",
   "id": "b94e1e7c",
   "metadata": {},
   "source": [
    "* Most of the cases - `Canny`.\n",
    "\n",
    "* Advanced cases - `Sobel`."
   ]
  }
 ],
 "metadata": {
  "kernelspec": {
   "display_name": "Python 3",
   "language": "python",
   "name": "python3"
  },
  "language_info": {
   "codemirror_mode": {
    "name": "ipython",
    "version": 3
   },
   "file_extension": ".py",
   "mimetype": "text/x-python",
   "name": "python",
   "nbconvert_exporter": "python",
   "pygments_lexer": "ipython3",
   "version": "3.12.10"
  }
 },
 "nbformat": 4,
 "nbformat_minor": 5
}
