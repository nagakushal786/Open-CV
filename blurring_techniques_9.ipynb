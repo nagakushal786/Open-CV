{
 "cells": [
  {
   "cell_type": "markdown",
   "id": "3045abfa",
   "metadata": {},
   "source": [
    "## Blurring Techniques"
   ]
  },
  {
   "cell_type": "code",
   "execution_count": 1,
   "id": "216daeb4",
   "metadata": {},
   "outputs": [],
   "source": [
    "import cv2 as cv"
   ]
  },
  {
   "cell_type": "code",
   "execution_count": 4,
   "id": "df6d03b8",
   "metadata": {},
   "outputs": [],
   "source": [
    "img=cv.imread(\"Photos/cats.jpg\")\n",
    "cv.imshow(\"Cats\", img)\n",
    "\n",
    "cv.waitKey(0)\n",
    "cv.destroyAllWindows()"
   ]
  },
  {
   "cell_type": "markdown",
   "id": "23cb5ad6",
   "metadata": {},
   "source": [
    "`Kernel`: A small matrix used to apply effects to an image.  \n",
    "\n",
    "`Kernel size`: The dimensions of the kernel matrix."
   ]
  },
  {
   "cell_type": "markdown",
   "id": "b4acc51f",
   "metadata": {},
   "source": [
    "### Average Blur"
   ]
  },
  {
   "cell_type": "markdown",
   "id": "7f89fe49",
   "metadata": {},
   "source": [
    "In average blurring, the pixel intensity of middle cell of the kernel matrix is calculated as the average of the surrounding pixel intensities."
   ]
  },
  {
   "cell_type": "code",
   "execution_count": 12,
   "id": "2ac52350",
   "metadata": {},
   "outputs": [],
   "source": [
    "average_blur=cv.blur(img, (3, 3))\n",
    "cv.imshow(\"Average blurred Image\", average_blur)\n",
    "\n",
    "cv.waitKey(0)\n",
    "cv.destroyAllWindows()"
   ]
  },
  {
   "cell_type": "markdown",
   "id": "ae63a7ea",
   "metadata": {},
   "source": [
    "### Gaussian Blur"
   ]
  },
  {
   "cell_type": "markdown",
   "id": "3ee468fa",
   "metadata": {},
   "source": [
    "* In gaussian blurring, the pixel intensity of middle cell of the kernel matrix is calculated as the average of products of the weights assigned to each surrounding cell.\n",
    "\n",
    "* We get less blur compared to average blur."
   ]
  },
  {
   "cell_type": "code",
   "execution_count": 13,
   "id": "2b1c3a86",
   "metadata": {},
   "outputs": [],
   "source": [
    "gaussian_blur=cv.GaussianBlur(img, (3, 3), 0)\n",
    "cv.imshow(\"Gaussian blurred Image\", gaussian_blur)\n",
    "\n",
    "cv.waitKey(0)\n",
    "cv.destroyAllWindows()"
   ]
  },
  {
   "cell_type": "markdown",
   "id": "d4fcd46a",
   "metadata": {},
   "source": [
    "### Median Blur"
   ]
  },
  {
   "cell_type": "markdown",
   "id": "47b94794",
   "metadata": {},
   "source": [
    "* In median blurring, the pixel intensity of middle cell of the kernel matrix is calculated as the median of surrounding pixel intensities.\n",
    "\n",
    "* It is more effective in reducing noise in an image compared to average and gaussian blur."
   ]
  },
  {
   "cell_type": "code",
   "execution_count": 15,
   "id": "99ed43d2",
   "metadata": {},
   "outputs": [],
   "source": [
    "median_blur=cv.medianBlur(img, 3)\n",
    "cv.imshow(\"Median blurred Image\", median_blur)\n",
    "\n",
    "cv.waitKey(0)\n",
    "cv.destroyAllWindows()"
   ]
  },
  {
   "cell_type": "markdown",
   "id": "6c5d8fa2",
   "metadata": {},
   "source": [
    "### Bilateral Blur"
   ]
  },
  {
   "cell_type": "markdown",
   "id": "c6a97660",
   "metadata": {},
   "source": [
    "* Bilateral blurring will the blur the image and even retains the edges.\n",
    "\n",
    "* sigmaColor - larger the value, more colors in the neighbourhood that will be considered when the blur is computed.\n",
    "\n",
    "* sigmaSpace - larger the value, pixels will further out from the central pixel, influencing the blur calculation."
   ]
  },
  {
   "cell_type": "code",
   "execution_count": 18,
   "id": "d3af9923",
   "metadata": {},
   "outputs": [],
   "source": [
    "bilateral_blur=cv.bilateralFilter(img, 10, 35, 25)\n",
    "cv.imshow(\"Bilateral blurred Image\", bilateral_blur)\n",
    "\n",
    "cv.waitKey(0)\n",
    "cv.destroyAllWindows()"
   ]
  }
 ],
 "metadata": {
  "kernelspec": {
   "display_name": "Python 3",
   "language": "python",
   "name": "python3"
  },
  "language_info": {
   "codemirror_mode": {
    "name": "ipython",
    "version": 3
   },
   "file_extension": ".py",
   "mimetype": "text/x-python",
   "name": "python",
   "nbconvert_exporter": "python",
   "pygments_lexer": "ipython3",
   "version": "3.12.10"
  }
 },
 "nbformat": 4,
 "nbformat_minor": 5
}
