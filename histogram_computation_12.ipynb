{
 "cells": [
  {
   "cell_type": "markdown",
   "id": "14055d23",
   "metadata": {},
   "source": [
    "## Histogram Computation"
   ]
  },
  {
   "cell_type": "code",
   "execution_count": null,
   "id": "f17ec983",
   "metadata": {},
   "outputs": [],
   "source": [
    "import cv2 as cv\n",
    "import matplotlib.pyplot as plt\n",
    "%matplotlib inline"
   ]
  },
  {
   "cell_type": "code",
   "execution_count": null,
   "id": "d0494f5b",
   "metadata": {},
   "outputs": [],
   "source": [
    "img=cv.imread(\"Photos/cats.jpg\")\n",
    "cv.imshow(\"Cats\", img)\n",
    "\n",
    "cv.waitKey(0)\n",
    "cv.destroyAllWindows()"
   ]
  },
  {
   "cell_type": "markdown",
   "id": "57c3810f",
   "metadata": {},
   "source": [
    "Histograms basically allow us to visualize the distribution of pixel intensities in an image."
   ]
  },
  {
   "cell_type": "markdown",
   "id": "df631ed0",
   "metadata": {},
   "source": [
    "### Gray Scale Histogram"
   ]
  },
  {
   "cell_type": "code",
   "execution_count": null,
   "id": "ad445ad6",
   "metadata": {},
   "outputs": [],
   "source": [
    "gray_img=cv.cvtColor(img, cv.COLOR_BGR2GRAY)\n",
    "cv.imshow(\"Gray Image\", gray_img)\n",
    "\n",
    "cv.waitKey(0)\n",
    "cv.destroyAllWindows()"
   ]
  },
  {
   "cell_type": "markdown",
   "id": "9e5d1ce0",
   "metadata": {},
   "source": [
    "In cv.calcHist():\n",
    "* images - list of images\n",
    "* channels - specify the index of channel we want to compute a histogram.\n",
    "* mask - to specify the portion of image we want to calculate the histogram.\n",
    "* histSize: to specify number of bins that we want to compute the histogram.\n",
    "* ranges: pixel ranges to compute the histogram."
   ]
  },
  {
   "cell_type": "markdown",
   "id": "228da645",
   "metadata": {},
   "source": [
    "### Non-masked Gray Scale Histogram"
   ]
  },
  {
   "cell_type": "code",
   "execution_count": null,
   "id": "28bb8e0c",
   "metadata": {},
   "outputs": [],
   "source": [
    "gray_hist=cv.calcHist([gray_img], [0], None, [256], [0, 256])\n",
    "\n",
    "plt.figure()\n",
    "plt.title(\"Gray Scale Histogram\")\n",
    "plt.xlabel(\"Bins\")\n",
    "plt.ylabel(\"Number of pixels\")\n",
    "plt.xlim([0, 256])\n",
    "plt.plot(gray_hist)\n",
    "plt.show()"
   ]
  },
  {
   "cell_type": "code",
   "execution_count": null,
   "id": "aed619d0",
   "metadata": {},
   "outputs": [],
   "source": [
    "import numpy as np\n",
    "\n",
    "blank_img=np.zeros(img.shape[:2], dtype='uint8')\n",
    "circle=cv.circle(blank_img, (img.shape[1]//2, img.shape[0]//2), 100, 255, -1)\n",
    "mask=cv.bitwise_and(gray_img, gray_img, mask=circle)\n",
    "cv.imshow(\"Mask\", mask)\n",
    "\n",
    "cv.waitKey(0)\n",
    "cv.destroyAllWindows()"
   ]
  },
  {
   "cell_type": "markdown",
   "id": "eaad2417",
   "metadata": {},
   "source": [
    "### Masked Gray Scale Histogram"
   ]
  },
  {
   "cell_type": "code",
   "execution_count": null,
   "id": "9ed492a3",
   "metadata": {},
   "outputs": [],
   "source": [
    "gray_hist=cv.calcHist([gray_img], [0], mask, [256], [0, 256])\n",
    "\n",
    "plt.figure()\n",
    "plt.title(\"Gray Scale Histogram\")\n",
    "plt.xlabel(\"Bins\")\n",
    "plt.ylabel(\"Number of pixels\")\n",
    "plt.xlim([0, 256])\n",
    "plt.plot(gray_hist)\n",
    "plt.show()"
   ]
  },
  {
   "cell_type": "markdown",
   "id": "e5376264",
   "metadata": {},
   "source": [
    "### Non-masked Colour Histogram"
   ]
  },
  {
   "cell_type": "code",
   "execution_count": null,
   "id": "ecbcf16b",
   "metadata": {},
   "outputs": [],
   "source": [
    "plt.figure()\n",
    "plt.title(\"Colour Histogram\")\n",
    "plt.xlabel(\"Bins\")\n",
    "plt.ylabel(\"Number of pixels\")\n",
    "\n",
    "colors=('b', 'g', 'r')\n",
    "for i, col in enumerate(colors):\n",
    "  hist=cv.calcHist([img], [i], None, [256], [0, 256])\n",
    "  plt.plot(hist, color=col)\n",
    "  plt.xlim([0, 256])\n",
    "\n",
    "plt.show()"
   ]
  },
  {
   "cell_type": "markdown",
   "id": "fd4f8d43",
   "metadata": {},
   "source": [
    "### Masked Colour Histogram"
   ]
  },
  {
   "cell_type": "code",
   "execution_count": null,
   "id": "fd14d3ce",
   "metadata": {},
   "outputs": [],
   "source": [
    "import numpy as np\n",
    "\n",
    "blank_img=np.zeros(img.shape[:2], dtype='uint8')\n",
    "circle=cv.circle(blank_img, (img.shape[1]//2, img.shape[0]//2), 100, 255, -1)\n",
    "masked=cv.bitwise_and(img, img, mask=circle)\n",
    "cv.imshow(\"Mask\", masked)\n",
    "\n",
    "cv.waitKey(0)\n",
    "cv.destroyAllWindows()"
   ]
  },
  {
   "cell_type": "code",
   "execution_count": null,
   "id": "943bb6b2",
   "metadata": {},
   "outputs": [],
   "source": [
    "plt.figure()\n",
    "plt.title(\"Colour Histogram\")\n",
    "plt.xlabel(\"Bins\")\n",
    "plt.ylabel(\"Number of pixels\")\n",
    "\n",
    "colors=('b', 'g', 'r')\n",
    "for i, col in enumerate(colors):\n",
    "  hist=cv.calcHist([img], [i], circle, [256], [0, 256])\n",
    "  plt.plot(hist, color=col)\n",
    "  plt.xlim([0, 256])\n",
    "\n",
    "plt.show()"
   ]
  },
  {
   "cell_type": "markdown",
   "id": "965cf5cc",
   "metadata": {},
   "source": [
    "Histogram is useful when you are trying to visualize the image you get and may be trying to equalize the image so that there is no peeking of pixel values here and there."
   ]
  }
 ],
 "metadata": {
  "kernelspec": {
   "display_name": "Python 3",
   "language": "python",
   "name": "python3"
  },
  "language_info": {
   "codemirror_mode": {
    "name": "ipython",
    "version": 3
   },
   "file_extension": ".py",
   "mimetype": "text/x-python",
   "name": "python",
   "nbconvert_exporter": "python",
   "pygments_lexer": "ipython3",
   "version": "3.12.10"
  }
 },
 "nbformat": 4,
 "nbformat_minor": 5
}
