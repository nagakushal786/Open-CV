{
 "cells": [
  {
   "cell_type": "markdown",
   "id": "3bac7448",
   "metadata": {},
   "source": [
    "## Contour detection"
   ]
  },
  {
   "cell_type": "markdown",
   "id": "1311f7ac",
   "metadata": {},
   "source": [
    "Contour detection is used to detect the boundaries of objects in an image."
   ]
  },
  {
   "cell_type": "code",
   "execution_count": 1,
   "id": "febff7f9",
   "metadata": {},
   "outputs": [],
   "source": [
    "import cv2 as cv\n",
    "import numpy as np"
   ]
  },
  {
   "cell_type": "code",
   "execution_count": 2,
   "id": "b3c37f79",
   "metadata": {},
   "outputs": [],
   "source": [
    "img=cv.imread(\"Photos/cats.jpg\")\n",
    "cv.imshow(\"Cats\", img)\n",
    "\n",
    "cv.waitKey(0)\n",
    "cv.destroyAllWindows()"
   ]
  },
  {
   "cell_type": "code",
   "execution_count": 5,
   "id": "2b0529cb",
   "metadata": {},
   "outputs": [],
   "source": [
    "gray_img=cv.cvtColor(img, cv.COLOR_BGR2GRAY)\n",
    "cv.imshow(\"Gray scaled Image\", gray_img)\n",
    "\n",
    "cv.waitKey(0)\n",
    "cv.destroyAllWindows()"
   ]
  },
  {
   "cell_type": "code",
   "execution_count": 21,
   "id": "e2a38c5b",
   "metadata": {},
   "outputs": [],
   "source": [
    "blurred_img=cv.GaussianBlur(gray_img, (5, 5), cv.BORDER_DEFAULT)  \n",
    "cv.imshow(\"Blurred Image\", blurred_img)  \n",
    "\n",
    "cv.waitKey(0)  \n",
    "cv.destroyAllWindows()"
   ]
  },
  {
   "cell_type": "code",
   "execution_count": 22,
   "id": "cd15bcf1",
   "metadata": {},
   "outputs": [],
   "source": [
    "edge_detected_img=cv.Canny(blurred_img, 125, 175)  \n",
    "cv.imshow(\"Edge Detected Image\", edge_detected_img)  \n",
    "\n",
    "cv.waitKey(0)  \n",
    "cv.destroyAllWindows()"
   ]
  },
  {
   "cell_type": "markdown",
   "id": "6925ab35",
   "metadata": {},
   "source": [
    "### Thresholding an Image"
   ]
  },
  {
   "cell_type": "markdown",
   "id": "49aa80be",
   "metadata": {},
   "source": [
    "Thresholding attempts to binarize an image."
   ]
  },
  {
   "cell_type": "markdown",
   "id": "b34c23dd",
   "metadata": {},
   "source": [
    "ret, thresh=cv.threshold(gray_img, 125, 255, cv.THRESH_BINARY)  \n",
    "cv.imshow(\"Threshold Image\", thresh)  \n",
    "\n",
    "cv.waitKey(0)  \n",
    "cv.destroyAllWindows()"
   ]
  },
  {
   "cell_type": "code",
   "execution_count": 16,
   "id": "f69f8790",
   "metadata": {},
   "outputs": [],
   "source": [
    "blank_img=np.zeros(img.shape, dtype='uint8')\n",
    "cv.imshow(\"Blank Image\", blank_img)\n",
    "\n",
    "cv.waitKey(0)\n",
    "cv.destroyAllWindows()"
   ]
  },
  {
   "cell_type": "code",
   "execution_count": null,
   "id": "817a075a",
   "metadata": {},
   "outputs": [],
   "source": [
    "# mode - cv.RETR_TREE - all hierarchial contours\n",
    "# mode - cv.RETR_LIST - all contours\n",
    "# mode - cv.RETR_EXTERNAL - only external boundaries\n",
    "\n",
    "# method - cv.CHAIN_APPROX_NONE - all the contours and coordinates\n",
    "# method - cv.CHAIN_APPROX_SIMPLE - required contours and coordinates\n",
    "\n",
    "# Best option is to use edge_detected_img than thresh\n",
    "\n",
    "contours, hierarchies=cv.findContours(edge_detected_img, cv.RETR_LIST, cv.CHAIN_APPROX_SIMPLE)"
   ]
  },
  {
   "cell_type": "code",
   "execution_count": 25,
   "id": "e42fd737",
   "metadata": {},
   "outputs": [],
   "source": [
    "cv.drawContours(blank_img, contours, -1, (0, 0, 255), 1)\n",
    "cv.imshow(\"Contours Drawn Image\", blank_img)\n",
    "\n",
    "cv.waitKey(0)\n",
    "cv.destroyAllWindows()"
   ]
  }
 ],
 "metadata": {
  "kernelspec": {
   "display_name": "Python 3",
   "language": "python",
   "name": "python3"
  },
  "language_info": {
   "codemirror_mode": {
    "name": "ipython",
    "version": 3
   },
   "file_extension": ".py",
   "mimetype": "text/x-python",
   "name": "python",
   "nbconvert_exporter": "python",
   "pygments_lexer": "ipython3",
   "version": "3.12.10"
  }
 },
 "nbformat": 4,
 "nbformat_minor": 5
}
