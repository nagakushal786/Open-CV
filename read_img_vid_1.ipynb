{
 "cells": [
  {
   "cell_type": "markdown",
   "id": "57b5bd37",
   "metadata": {},
   "source": [
    "## Reading images and videos"
   ]
  },
  {
   "cell_type": "code",
   "execution_count": 2,
   "id": "ddb26e36",
   "metadata": {},
   "outputs": [],
   "source": [
    "import cv2 as cv"
   ]
  },
  {
   "cell_type": "markdown",
   "id": "93a8705f",
   "metadata": {},
   "source": [
    "### Reading an image"
   ]
  },
  {
   "cell_type": "code",
   "execution_count": null,
   "id": "a44e1d43",
   "metadata": {},
   "outputs": [],
   "source": [
    "# To read the image\n",
    "img=cv.imread(\"Photos/cat.jpg\")\n",
    "\n",
    "# To show the image as a seperate window\n",
    "cv.imshow('Cat', img)\n",
    "\n",
    "# Keep the window open till any keyboard key is pressed\n",
    "cv.waitKey(0)\n",
    "cv.destroyAllWindows()"
   ]
  },
  {
   "cell_type": "markdown",
   "id": "8d9e9173",
   "metadata": {},
   "source": [
    "### Reading a large dimensional image"
   ]
  },
  {
   "cell_type": "code",
   "execution_count": 6,
   "id": "97b3f7ba",
   "metadata": {},
   "outputs": [],
   "source": [
    "# Dimensions of this image are far greater than dimensions of monitor\n",
    "img=cv.imread(\"Photos/cat_large.jpg\")\n",
    "cv.imshow('Cat', img)\n",
    "cv.waitKey(0)\n",
    "cv.destroyAllWindows()"
   ]
  },
  {
   "cell_type": "markdown",
   "id": "0f857126",
   "metadata": {},
   "source": [
    "### Reading a video"
   ]
  },
  {
   "cell_type": "code",
   "execution_count": 10,
   "id": "780fde84",
   "metadata": {},
   "outputs": [],
   "source": [
    "# 0 refers to Web cam\n",
    "# 1 refers to first camera connected to monitor\n",
    "\n",
    "capture=cv.VideoCapture(\"Videos/dog.mp4\")\n",
    "\n",
    "while True:\n",
    "  # Reads the video frame by frame\n",
    "  isTrue, frame=capture.read()\n",
    "  cv.imshow('Dog', frame)\n",
    "\n",
    "  # If 'd' is pressed, then break out of the loop and stop the video\n",
    "  if cv.waitKey(20) & 0xFF==ord('d'):\n",
    "    break\n",
    "\n",
    "capture.release()\n",
    "cv.destroyAllWindows()"
   ]
  },
  {
   "cell_type": "markdown",
   "id": "d2458ccd",
   "metadata": {},
   "source": [
    "When once the video is completed or we give wrong image path, then we will get a cv2 error saying `-215:Assertion failed` because opencv couldn't find that particular media file at that position."
   ]
  }
 ],
 "metadata": {
  "kernelspec": {
   "display_name": "Python 3",
   "language": "python",
   "name": "python3"
  },
  "language_info": {
   "codemirror_mode": {
    "name": "ipython",
    "version": 3
   },
   "file_extension": ".py",
   "mimetype": "text/x-python",
   "name": "python",
   "nbconvert_exporter": "python",
   "pygments_lexer": "ipython3",
   "version": "3.12.10"
  }
 },
 "nbformat": 4,
 "nbformat_minor": 5
}
