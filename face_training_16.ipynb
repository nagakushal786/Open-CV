{
 "cells": [
  {
   "cell_type": "markdown",
   "id": "6692e3b2",
   "metadata": {},
   "source": [
    "## Face Training"
   ]
  },
  {
   "cell_type": "code",
   "execution_count": null,
   "id": "bac6d77d",
   "metadata": {},
   "outputs": [],
   "source": [
    "import cv2 as cv\n",
    "import os\n",
    "import numpy as np"
   ]
  },
  {
   "cell_type": "code",
   "execution_count": null,
   "id": "84a616c4",
   "metadata": {},
   "outputs": [],
   "source": [
    "people=[\"Ben_Afflek\", \"Elton_John\", \"Jerry_Seinfield\", \"Madonna\", \"Mindy_Kaling\"]"
   ]
  },
  {
   "cell_type": "code",
   "execution_count": null,
   "id": "7ddac599",
   "metadata": {},
   "outputs": [],
   "source": [
    "directory=r\"d:\\open-cv\\Faces\\train\""
   ]
  },
  {
   "cell_type": "code",
   "execution_count": null,
   "id": "0d20a334",
   "metadata": {},
   "outputs": [],
   "source": [
    "features=[]\n",
    "labels=[]\n",
    "haar_cascade=cv.CascadeClassifier(\"haarcascade_frontalface_default.xml\")"
   ]
  },
  {
   "cell_type": "code",
   "execution_count": null,
   "id": "082dcfd9",
   "metadata": {},
   "outputs": [],
   "source": [
    "def create_training_model():\n",
    "  for person in people:\n",
    "    path=os.path.join(directory, person)\n",
    "    label=people.index(person)\n",
    "\n",
    "    for img in os.listdir(path):\n",
    "      img_path=os.path.join(path, img)\n",
    "\n",
    "      img_array=cv.imread(img_path)\n",
    "      gray_img=cv.cvtColor(img_array, cv.COLOR_BGR2GRAY)\n",
    "\n",
    "      faces_rect=haar_cascade.detectMultiScale(gray_img, 1.1, 4)\n",
    "\n",
    "      for (x, y, w, h) in faces_rect:\n",
    "        faces_roi=gray_img[y:y+h, x:x+w]\n",
    "        features.append(faces_roi)\n",
    "        labels.append(label)"
   ]
  },
  {
   "cell_type": "code",
   "execution_count": null,
   "id": "4481273b",
   "metadata": {},
   "outputs": [],
   "source": [
    "create_training_model()\n",
    "\n",
    "print(f\"Length of the features: {len(features)}\")\n",
    "print(f\"Length of the labels: {len(labels)}\")"
   ]
  },
  {
   "cell_type": "code",
   "execution_count": null,
   "id": "ff626f47",
   "metadata": {},
   "outputs": [],
   "source": [
    "features=np.array(features, dtype='object')\n",
    "labels=np.array(labels)"
   ]
  },
  {
   "cell_type": "code",
   "execution_count": null,
   "id": "c15939d1",
   "metadata": {},
   "outputs": [],
   "source": [
    "face_recognizer=cv.face.LBPHFaceRecognizer_create()"
   ]
  },
  {
   "cell_type": "code",
   "execution_count": null,
   "id": "7234b451",
   "metadata": {},
   "outputs": [],
   "source": [
    "face_recognizer.train(features, labels)"
   ]
  },
  {
   "cell_type": "code",
   "execution_count": null,
   "id": "db9e40af",
   "metadata": {},
   "outputs": [],
   "source": [
    "np.save(\"features.npy\", features)\n",
    "np.save(\"labels.npy\", labels)\n",
    "face_recognizer.save(\"face_trained.yml\")"
   ]
  },
  {
   "cell_type": "markdown",
   "id": "5b51f349",
   "metadata": {},
   "source": [
    "* If we want to use the face_recognizer in another file, we have to seperately repeat the whole process of adding images to a list and getting corresponding labels, then converting them to numpy arrays and training all over again.\n",
    "\n",
    "* Open-cv helps us to save the training model so that we can use it in another file or in another directory by using a particular YAML file."
   ]
  }
 ],
 "metadata": {
  "kernelspec": {
   "display_name": "Python 3",
   "language": "python",
   "name": "python3"
  },
  "language_info": {
   "codemirror_mode": {
    "name": "ipython",
    "version": 3
   },
   "file_extension": ".py",
   "mimetype": "text/x-python",
   "name": "python",
   "nbconvert_exporter": "python",
   "pygments_lexer": "ipython3",
   "version": "3.12.10"
  }
 },
 "nbformat": 4,
 "nbformat_minor": 5
}
