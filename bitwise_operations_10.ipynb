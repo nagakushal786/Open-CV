{
 "cells": [
  {
   "cell_type": "markdown",
   "id": "d496e90f",
   "metadata": {},
   "source": [
    "## Bitwise Operations"
   ]
  },
  {
   "cell_type": "code",
   "execution_count": 2,
   "id": "0e22580f",
   "metadata": {},
   "outputs": [],
   "source": [
    "import cv2 as cv\n",
    "import numpy as np"
   ]
  },
  {
   "cell_type": "code",
   "execution_count": 6,
   "id": "f2cf5926",
   "metadata": {},
   "outputs": [],
   "source": [
    "blank_img=np.zeros((400, 400), dtype='uint8')\n",
    "\n",
    "rectangle=cv.rectangle(blank_img.copy(), (30, 30), (370, 370), 255, -1)\n",
    "circle=cv.circle(blank_img.copy(), (200, 200), 200, 255, -1)\n",
    "\n",
    "cv.imshow(\"Rectangle\", rectangle)\n",
    "cv.imshow(\"Circle\", circle)\n",
    "\n",
    "cv.waitKey(0)\n",
    "cv.destroyAllWindows()"
   ]
  },
  {
   "cell_type": "markdown",
   "id": "21d12008",
   "metadata": {},
   "source": [
    "### Bitwise AND"
   ]
  },
  {
   "cell_type": "code",
   "execution_count": null,
   "id": "b0cb794a",
   "metadata": {},
   "outputs": [],
   "source": [
    "# Intersecting regions\n",
    "bitwise_and=cv.bitwise_and(rectangle, circle)\n",
    "cv.imshow(\"Bitwise AND Image\", bitwise_and)\n",
    "\n",
    "cv.waitKey(0)\n",
    "cv.destroyAllWindows()"
   ]
  },
  {
   "cell_type": "markdown",
   "id": "faccaec1",
   "metadata": {},
   "source": [
    "### Bitwise OR"
   ]
  },
  {
   "cell_type": "code",
   "execution_count": null,
   "id": "2dddaa3e",
   "metadata": {},
   "outputs": [],
   "source": [
    "# Intersecting and non-intersecting regions\n",
    "bitwise_or=cv.bitwise_or(rectangle, circle)\n",
    "cv.imshow(\"Bitwise OR Image\", bitwise_or)\n",
    "\n",
    "cv.waitKey(0)\n",
    "cv.destroyAllWindows()"
   ]
  },
  {
   "cell_type": "markdown",
   "id": "51751465",
   "metadata": {},
   "source": [
    "### Bitwise XOR"
   ]
  },
  {
   "cell_type": "code",
   "execution_count": 9,
   "id": "851befcb",
   "metadata": {},
   "outputs": [],
   "source": [
    "# Non-intersecting regions\n",
    "bitwise_xor=cv.bitwise_xor(rectangle, circle)\n",
    "cv.imshow(\"Bitwise XOR Image\", bitwise_xor)\n",
    "\n",
    "cv.waitKey(0)\n",
    "cv.destroyAllWindows()"
   ]
  },
  {
   "cell_type": "markdown",
   "id": "a4af7562",
   "metadata": {},
   "source": [
    "### Bitwise NOT"
   ]
  },
  {
   "cell_type": "code",
   "execution_count": 10,
   "id": "b8a048a1",
   "metadata": {},
   "outputs": [],
   "source": [
    "bitwise_not_rect=cv.bitwise_not(rectangle)\n",
    "cv.imshow(\"Bitwise NOT Rectangle Image\", bitwise_not_rect)\n",
    "\n",
    "cv.waitKey(0)\n",
    "cv.destroyAllWindows()"
   ]
  },
  {
   "cell_type": "code",
   "execution_count": 11,
   "id": "3ffeb998",
   "metadata": {},
   "outputs": [],
   "source": [
    "bitwise_not_circ=cv.bitwise_not(circle)\n",
    "cv.imshow(\"Bitwise NOT Circle Image\", bitwise_not_circ)\n",
    "\n",
    "cv.waitKey(0)\n",
    "cv.destroyAllWindows()"
   ]
  }
 ],
 "metadata": {
  "kernelspec": {
   "display_name": "Python 3",
   "language": "python",
   "name": "python3"
  },
  "language_info": {
   "codemirror_mode": {
    "name": "ipython",
    "version": 3
   },
   "file_extension": ".py",
   "mimetype": "text/x-python",
   "name": "python",
   "nbconvert_exporter": "python",
   "pygments_lexer": "ipython3",
   "version": "3.12.10"
  }
 },
 "nbformat": 4,
 "nbformat_minor": 5
}
