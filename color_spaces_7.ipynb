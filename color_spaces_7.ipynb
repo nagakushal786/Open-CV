{
 "cells": [
  {
   "cell_type": "markdown",
   "id": "2e4bb556",
   "metadata": {},
   "source": [
    "## Color spaces"
   ]
  },
  {
   "cell_type": "markdown",
   "id": "3bd7d0b2",
   "metadata": {},
   "source": [
    "Color spaces refers to the system of representing arrays of pixel colors."
   ]
  },
  {
   "cell_type": "code",
   "execution_count": null,
   "id": "219f38a8",
   "metadata": {},
   "outputs": [],
   "source": [
    "import cv2 as cv"
   ]
  },
  {
   "cell_type": "code",
   "execution_count": null,
   "id": "fb1fcf87",
   "metadata": {},
   "outputs": [],
   "source": [
    "img=cv.imread(\"Photos/park.jpg\")\n",
    "cv.imshow(\"Boston\", img)\n",
    "\n",
    "cv.waitKey(0)\n",
    "cv.destroyAllWindows()"
   ]
  },
  {
   "cell_type": "markdown",
   "id": "a1e65496",
   "metadata": {},
   "source": [
    "### BGR to Gray scale Image"
   ]
  },
  {
   "cell_type": "markdown",
   "id": "479c0108",
   "metadata": {},
   "source": [
    "Gray scale images basically show you the distribution of pixel intensities at particular locations of your image."
   ]
  },
  {
   "cell_type": "code",
   "execution_count": null,
   "id": "b0f63519",
   "metadata": {},
   "outputs": [],
   "source": [
    "gray_img=cv.cvtColor(img, cv.COLOR_BGR2GRAY)\n",
    "cv.imshow(\"Gray Image\", gray_img)\n",
    "\n",
    "cv.waitKey(0)\n",
    "cv.destroyAllWindows()"
   ]
  },
  {
   "cell_type": "markdown",
   "id": "3f3349ed",
   "metadata": {},
   "source": [
    "### BGR to HSV"
   ]
  },
  {
   "cell_type": "markdown",
   "id": "42fbe32e",
   "metadata": {},
   "source": [
    "HSV stands for Hue, Saturation, Value — it's a color space used in image processing.\n",
    "\n",
    "* Hue (H): Color type (0–179 in OpenCV; 0–360 degrees in theory). E.g., red, green, blue.\n",
    "* Saturation (S): Intensity or purity of the color (0–255). 0 = gray, 255 = full color.\n",
    "* Value (V): Brightness (0–255). 0 = black, 255 = brightest."
   ]
  },
  {
   "cell_type": "code",
   "execution_count": null,
   "id": "fc78edeb",
   "metadata": {},
   "outputs": [],
   "source": [
    "hsv_img=cv.cvtColor(img, cv.COLOR_BGR2HSV)\n",
    "cv.imshow(\"HSV Image\", hsv_img)\n",
    "\n",
    "cv.waitKey(0)\n",
    "cv.destroyAllWindows()"
   ]
  },
  {
   "cell_type": "markdown",
   "id": "5a03bca1",
   "metadata": {},
   "source": [
    "### BGR to LAB"
   ]
  },
  {
   "cell_type": "markdown",
   "id": "4a920641",
   "metadata": {},
   "source": [
    "LAB is a color space used in computer vision that separates lightness and color for more accurate color analysis.\n",
    "\n",
    "* L – Lightness (0 = black, 100 = white)\n",
    "* A – Green–Red component\n",
    "* B – Blue–Yellow component"
   ]
  },
  {
   "cell_type": "code",
   "execution_count": null,
   "id": "b753f8b8",
   "metadata": {},
   "outputs": [],
   "source": [
    "lab_img=cv.cvtColor(img, cv.COLOR_BGR2Lab)\n",
    "cv.imshow(\"LAB Image\", lab_img)\n",
    "\n",
    "cv.waitKey(0)\n",
    "cv.destroyAllWindows()"
   ]
  },
  {
   "cell_type": "markdown",
   "id": "d0938fdd",
   "metadata": {},
   "source": [
    "### BGR to RGB"
   ]
  },
  {
   "cell_type": "code",
   "execution_count": null,
   "id": "e1bf6d08",
   "metadata": {},
   "outputs": [],
   "source": [
    "import matplotlib.pyplot as plt\n",
    "%matplotlib inline\n",
    "\n",
    "plt.imshow(img)\n",
    "plt.show()"
   ]
  },
  {
   "cell_type": "code",
   "execution_count": null,
   "id": "d62e8de3",
   "metadata": {},
   "outputs": [],
   "source": [
    "rgb_img=cv.cvtColor(img, cv.COLOR_BGR2RGB)\n",
    "cv.imshow(\"RGB Image\", rgb_img)\n",
    "\n",
    "cv.waitKey(0)\n",
    "cv.destroyAllWindows()"
   ]
  },
  {
   "cell_type": "markdown",
   "id": "b48c9124",
   "metadata": {},
   "source": [
    "We can't convert gray scale directly to HSV"
   ]
  },
  {
   "cell_type": "markdown",
   "id": "41f4557f",
   "metadata": {},
   "source": [
    "### HSV to BGR"
   ]
  },
  {
   "cell_type": "code",
   "execution_count": null,
   "id": "8543132f",
   "metadata": {},
   "outputs": [],
   "source": [
    "hsv_bgr_img=cv.cvtColor(hsv_img, cv.COLOR_HSV2BGR)\n",
    "cv.imshow(\"HSV-BGR Image\", hsv_bgr_img)\n",
    "\n",
    "cv.waitKey(0)\n",
    "cv.destroyAllWindows()"
   ]
  },
  {
   "cell_type": "markdown",
   "id": "621b1876",
   "metadata": {},
   "source": [
    "### LAB to BGR"
   ]
  },
  {
   "cell_type": "code",
   "execution_count": null,
   "id": "74c60f6e",
   "metadata": {},
   "outputs": [],
   "source": [
    "lab_bgr_img=cv.cvtColor(lab_img, cv.COLOR_Lab2BGR)\n",
    "cv.imshow(\"LAB-BGR\", lab_bgr_img)\n",
    "\n",
    "cv.waitKey(0)\n",
    "cv.destroyAllWindows()"
   ]
  }
 ],
 "metadata": {
  "kernelspec": {
   "display_name": "Python 3",
   "language": "python",
   "name": "python3"
  },
  "language_info": {
   "codemirror_mode": {
    "name": "ipython",
    "version": 3
   },
   "file_extension": ".py",
   "mimetype": "text/x-python",
   "name": "python",
   "nbconvert_exporter": "python",
   "pygments_lexer": "ipython3",
   "version": "3.12.10"
  }
 },
 "nbformat": 4,
 "nbformat_minor": 5
}
