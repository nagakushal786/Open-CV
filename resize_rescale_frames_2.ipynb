{
 "cells": [
  {
   "cell_type": "markdown",
   "id": "9ede1cf6",
   "metadata": {},
   "source": [
    "## Resizing and rescaling frames"
   ]
  },
  {
   "cell_type": "code",
   "execution_count": 1,
   "id": "2a912693",
   "metadata": {},
   "outputs": [],
   "source": [
    "import cv2 as cv"
   ]
  },
  {
   "cell_type": "code",
   "execution_count": 2,
   "id": "3e916430",
   "metadata": {},
   "outputs": [],
   "source": [
    "# For videos, images and live videos\n",
    "def rescale_frame(frame, scale=0.75):\n",
    "  height=int(frame.shape[0]*scale)\n",
    "  width=int(frame.shape[1]*scale)\n",
    "  dimensions=(width, height)\n",
    "\n",
    "  # interpolation - how pixel values are calculated during scaling\n",
    "  # INTER_AREA - for downscaling\n",
    "  # INTER_LINEAR - for upscaling\n",
    "  return cv.resize(frame, dimensions, interpolation=cv.INTER_AREA)"
   ]
  },
  {
   "cell_type": "markdown",
   "id": "11440c99",
   "metadata": {},
   "source": [
    "### Rescaled video"
   ]
  },
  {
   "cell_type": "code",
   "execution_count": 3,
   "id": "c561d611",
   "metadata": {},
   "outputs": [],
   "source": [
    "capture=cv.VideoCapture(\"Videos/dog.mp4\")\n",
    "\n",
    "while True:\n",
    "  isTrue, frame=capture.read()\n",
    "  frame_rescaled=rescale_frame(frame, 0.2)\n",
    "\n",
    "  cv.imshow(\"Dog video\", frame)\n",
    "  cv.imshow(\"Dog video rescaled\", frame_rescaled)\n",
    "\n",
    "  if cv.waitKey(20) & 0xFF==ord('d'):\n",
    "    break\n",
    "\n",
    "capture.release()\n",
    "cv.destroyAllWindows()"
   ]
  },
  {
   "cell_type": "markdown",
   "id": "0736cf0f",
   "metadata": {},
   "source": [
    "### Rescaled image"
   ]
  },
  {
   "cell_type": "code",
   "execution_count": 4,
   "id": "b8e34a63",
   "metadata": {},
   "outputs": [],
   "source": [
    "img=cv.imread(\"Photos/cat_large.jpg\")\n",
    "rescaled_image=rescale_frame(img, 0.3)\n",
    "cv.imshow(\"Cat rescaled\", rescaled_image)\n",
    "cv.waitKey(0)\n",
    "cv.destroyAllWindows()"
   ]
  },
  {
   "cell_type": "markdown",
   "id": "60145dbd",
   "metadata": {},
   "source": [
    "### Setting resolution for video"
   ]
  },
  {
   "cell_type": "code",
   "execution_count": 5,
   "id": "e3779ffc",
   "metadata": {},
   "outputs": [],
   "source": [
    "# For live videos\n",
    "def changeRes(width, height):\n",
    "  capture.set(3, width)\n",
    "  capture.set(4, height)"
   ]
  },
  {
   "cell_type": "code",
   "execution_count": 6,
   "id": "884adbe8",
   "metadata": {},
   "outputs": [],
   "source": [
    "capture=cv.VideoCapture(0)\n",
    "\n",
    "changeRes(640, 480)\n",
    "\n",
    "while True:\n",
    "  isTrue, frame=capture.read()\n",
    "  cv.imshow(\"Live video\", frame)\n",
    "\n",
    "  if cv.waitKey(20) & 0xFF==ord('d'):\n",
    "    break\n",
    "\n",
    "capture.release()\n",
    "cv.destroyAllWindows()"
   ]
  }
 ],
 "metadata": {
  "kernelspec": {
   "display_name": "Python 3",
   "language": "python",
   "name": "python3"
  },
  "language_info": {
   "codemirror_mode": {
    "name": "ipython",
    "version": 3
   },
   "file_extension": ".py",
   "mimetype": "text/x-python",
   "name": "python",
   "nbconvert_exporter": "python",
   "pygments_lexer": "ipython3",
   "version": "3.12.10"
  }
 },
 "nbformat": 4,
 "nbformat_minor": 5
}
