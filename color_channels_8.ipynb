{
 "cells": [
  {
   "cell_type": "markdown",
   "id": "6a0d7be9",
   "metadata": {},
   "source": [
    "## Color Channels"
   ]
  },
  {
   "cell_type": "code",
   "execution_count": null,
   "id": "c849cf23",
   "metadata": {},
   "outputs": [],
   "source": [
    "import cv2 as cv"
   ]
  },
  {
   "cell_type": "code",
   "execution_count": null,
   "id": "f609eeef",
   "metadata": {},
   "outputs": [],
   "source": [
    "img=cv.imread(\"Photos/park.jpg\")\n",
    "cv.imshow(\"Boston\", img)\n",
    "\n",
    "cv.waitKey(0)\n",
    "cv.destroyAllWindows()"
   ]
  },
  {
   "cell_type": "code",
   "execution_count": null,
   "id": "6fc525bf",
   "metadata": {},
   "outputs": [],
   "source": [
    "b, g, r=cv.split(img)\n",
    "\n",
    "# Displayed as gray scale images since they have the shape as 1\n",
    "cv.imshow(\"Blue\", b)\n",
    "cv.imshow(\"Green\", g)\n",
    "cv.imshow(\"Red\", r)\n",
    "\n",
    "print(img.shape)\n",
    "print(b.shape, g.shape, r.shape)\n",
    "\n",
    "cv.waitKey(0)\n",
    "cv.destroyAllWindows()"
   ]
  },
  {
   "cell_type": "code",
   "execution_count": null,
   "id": "d5eb929c",
   "metadata": {},
   "outputs": [],
   "source": [
    "merged_img=cv.merge([b, g, r])\n",
    "cv.imshow(\"Merged Image\", merged_img)\n",
    "\n",
    "cv.waitKey(0)\n",
    "cv.destroyAllWindows()"
   ]
  },
  {
   "cell_type": "code",
   "execution_count": null,
   "id": "d6d18cca",
   "metadata": {},
   "outputs": [],
   "source": [
    "import numpy as np\n",
    "\n",
    "blank_img=np.zeros(img.shape[:2], dtype='uint8')\n",
    "\n",
    "blue=cv.merge([b, blank_img, blank_img])\n",
    "green=cv.merge([blank_img, g, blank_img])\n",
    "red=cv.merge([blank_img, blank_img, r])\n",
    "\n",
    "cv.imshow(\"Blue Image\", blue)\n",
    "cv.imshow(\"Green Image\", green)\n",
    "cv.imshow(\"Red Image\", red)\n",
    "\n",
    "cv.waitKey(0)\n",
    "cv.destroyAllWindows()"
   ]
  }
 ],
 "metadata": {
  "kernelspec": {
   "display_name": "Python 3",
   "language": "python",
   "name": "python3"
  },
  "language_info": {
   "codemirror_mode": {
    "name": "ipython",
    "version": 3
   },
   "file_extension": ".py",
   "mimetype": "text/x-python",
   "name": "python",
   "nbconvert_exporter": "python",
   "pygments_lexer": "ipython3",
   "version": "3.12.10"
  }
 },
 "nbformat": 4,
 "nbformat_minor": 5
}
