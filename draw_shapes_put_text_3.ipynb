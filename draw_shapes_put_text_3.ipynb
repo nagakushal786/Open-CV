{
 "cells": [
  {
   "cell_type": "markdown",
   "id": "075ee90c",
   "metadata": {},
   "source": [
    "## Drawing shapes and putting text into images"
   ]
  },
  {
   "cell_type": "code",
   "execution_count": 1,
   "id": "e5f9ae3f",
   "metadata": {},
   "outputs": [],
   "source": [
    "import cv2 as cv\n",
    "import numpy as np"
   ]
  },
  {
   "cell_type": "markdown",
   "id": "b91a8fb9",
   "metadata": {},
   "source": [
    "### Creating a blank image"
   ]
  },
  {
   "cell_type": "code",
   "execution_count": 16,
   "id": "0c09d192",
   "metadata": {},
   "outputs": [],
   "source": [
    "blank_image=np.zeros((500, 500, 3), dtype='uint8')\n",
    "cv.imshow('Blank', blank_image)\n",
    "\n",
    "cv.waitKey(0)\n",
    "cv.destroyAllWindows()"
   ]
  },
  {
   "cell_type": "markdown",
   "id": "627f2846",
   "metadata": {},
   "source": [
    "### Paint the image with certain colour"
   ]
  },
  {
   "cell_type": "code",
   "execution_count": 3,
   "id": "39611254",
   "metadata": {},
   "outputs": [],
   "source": [
    "# Painting entire image\n",
    "blank_image[:]=0, 255, 0\n",
    "cv.imshow(\"Green\", blank_image)\n",
    "\n",
    "# Painting certain part of image\n",
    "blank_image[200:300, 300:400]=255, 0, 0\n",
    "cv.imshow(\"Blue\", blank_image)\n",
    "\n",
    "cv.waitKey(0)\n",
    "cv.destroyAllWindows()"
   ]
  },
  {
   "cell_type": "markdown",
   "id": "2a2446c2",
   "metadata": {},
   "source": [
    "### Drawing a rectangle"
   ]
  },
  {
   "cell_type": "code",
   "execution_count": 17,
   "id": "67c47df6",
   "metadata": {},
   "outputs": [],
   "source": [
    "cv.rectangle(blank_image, (0, 0), (250, 250), (0, 255, 0), 2)\n",
    "cv.imshow(\"Rectangle\", blank_image)\n",
    "\n",
    "# Filling the rectangle drawn\n",
    "cv.rectangle(blank_image, (0, 0), (250, 250), (0, 255, 0), thickness=cv.FILLED)\n",
    "cv.imshow(\"Rectangle\", blank_image)\n",
    "\n",
    "# Through image dimensions\n",
    "cv.rectangle(blank_image, (0, 0), (blank_image.shape[1]//2, blank_image.shape[0]//2), (0, 255, 0), thickness=cv.FILLED)\n",
    "cv.imshow(\"Rectangle\", blank_image)\n",
    "\n",
    "cv.waitKey(0)\n",
    "cv.destroyAllWindows()"
   ]
  },
  {
   "cell_type": "markdown",
   "id": "e9763e8b",
   "metadata": {},
   "source": [
    "### Drawing a circle"
   ]
  },
  {
   "cell_type": "code",
   "execution_count": 18,
   "id": "c97fc0b5",
   "metadata": {},
   "outputs": [],
   "source": [
    "cv.circle(blank_image, (250, 250), 40, (0, 0, 255), 2, lineType=cv.LINE_AA)\n",
    "cv.imshow(\"Circle\", blank_image)\n",
    "\n",
    "# Filling the circle drawn\n",
    "cv.circle(blank_image, (250, 250), 40, (0, 0, 255), -1, lineType=cv.LINE_AA)\n",
    "cv.imshow(\"Circle\", blank_image)\n",
    "\n",
    "cv.waitKey(0)\n",
    "cv.destroyAllWindows()"
   ]
  },
  {
   "cell_type": "markdown",
   "id": "b9eb8ed0",
   "metadata": {},
   "source": [
    "### Drawing a line"
   ]
  },
  {
   "cell_type": "code",
   "execution_count": 19,
   "id": "c2d703b1",
   "metadata": {},
   "outputs": [],
   "source": [
    "cv.line(blank_image, (0, 0), (blank_image.shape[1]//2, blank_image.shape[0]//2), (255, 255, 255), thickness=3)\n",
    "cv.imshow(\"Line\", blank_image)\n",
    "\n",
    "cv.waitKey(0)\n",
    "cv.destroyAllWindows()"
   ]
  },
  {
   "cell_type": "markdown",
   "id": "2d9fac78",
   "metadata": {},
   "source": [
    "### Putting text into image"
   ]
  },
  {
   "cell_type": "code",
   "execution_count": 20,
   "id": "1962b6f5",
   "metadata": {},
   "outputs": [],
   "source": [
    "cv.putText(blank_image, \"Hello\", (350, 350), cv.FONT_HERSHEY_TRIPLEX, 1.0, (255, 255, 0), 3)\n",
    "cv.imshow(\"Text\", blank_image)\n",
    "\n",
    "cv.waitKey(0)\n",
    "cv.destroyAllWindows()"
   ]
  }
 ],
 "metadata": {
  "kernelspec": {
   "display_name": "Python 3",
   "language": "python",
   "name": "python3"
  },
  "language_info": {
   "codemirror_mode": {
    "name": "ipython",
    "version": 3
   },
   "file_extension": ".py",
   "mimetype": "text/x-python",
   "name": "python",
   "nbconvert_exporter": "python",
   "pygments_lexer": "ipython3",
   "version": "3.12.10"
  }
 },
 "nbformat": 4,
 "nbformat_minor": 5
}
