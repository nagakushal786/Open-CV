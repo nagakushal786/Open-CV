{
 "cells": [
  {
   "cell_type": "markdown",
   "id": "734470fd",
   "metadata": {},
   "source": [
    "## Face Detection using Haar Cascades"
   ]
  },
  {
   "cell_type": "markdown",
   "id": "607bed5e",
   "metadata": {},
   "source": [
    "* Face detection: It merely detects the presence of a face in an image.\n",
    "\n",
    "* Face recognition: It involves identifying whose face it is.\n",
    "\n",
    "* Face detection is performed using classifiers. A classifier is essentially an algorithm that decides whether a given image is positive or negative, whether face is present or not.\n",
    "\n",
    "* Face detection doesn't involve skin tone or the colors present in the image. These haar cascades uses the edges in the image and then tries to determine whether it is a face or not."
   ]
  },
  {
   "cell_type": "code",
   "execution_count": null,
   "id": "a31be64e",
   "metadata": {},
   "outputs": [],
   "source": [
    "import cv2 as cv"
   ]
  },
  {
   "cell_type": "code",
   "execution_count": null,
   "id": "2e6cb95e",
   "metadata": {},
   "outputs": [],
   "source": [
    "img=cv.imread(\"Photos/lady.jpg\")\n",
    "cv.imshow(\"Lady\", img)\n",
    "\n",
    "cv.waitKey(0)\n",
    "cv.destroyAllWindows()"
   ]
  },
  {
   "cell_type": "code",
   "execution_count": null,
   "id": "d699696c",
   "metadata": {},
   "outputs": [],
   "source": [
    "grp_img=cv.imread(\"Photos/group_2.jpg\")\n",
    "cv.imshow(\"Group Image\", grp_img)\n",
    "\n",
    "cv.waitKey(0)\n",
    "cv.destroyAllWindows()"
   ]
  },
  {
   "cell_type": "code",
   "execution_count": null,
   "id": "129a20c5",
   "metadata": {},
   "outputs": [],
   "source": [
    "gray_img=cv.cvtColor(img, cv.COLOR_BGR2GRAY)\n",
    "cv.imshow(\"Gray Image\", gray_img)\n",
    "\n",
    "cv.waitKey(0)\n",
    "cv.destroyAllWindows()"
   ]
  },
  {
   "cell_type": "code",
   "execution_count": null,
   "id": "158b68d4",
   "metadata": {},
   "outputs": [],
   "source": [
    "gray_img_grp=cv.cvtColor(grp_img, cv.COLOR_BGR2GRAY)\n",
    "cv.imshow(\"Gray Image\", gray_img_grp)\n",
    "\n",
    "cv.waitKey(0)\n",
    "cv.destroyAllWindows()"
   ]
  },
  {
   "cell_type": "code",
   "execution_count": null,
   "id": "7637eb76",
   "metadata": {},
   "outputs": [],
   "source": [
    "grp_img_1=cv.imread(\"Photos/group_1.jpg\")\n",
    "cv.imshow(\"Group Image\", grp_img_1)\n",
    "\n",
    "cv.waitKey(0)\n",
    "cv.destroyAllWindows()"
   ]
  },
  {
   "cell_type": "code",
   "execution_count": null,
   "id": "3c87c0d4",
   "metadata": {},
   "outputs": [],
   "source": [
    "gray_img_grp_1=cv.cvtColor(grp_img_1, cv.COLOR_BGR2GRAY)\n",
    "cv.imshow(\"Gray Image\", gray_img_grp_1)\n",
    "\n",
    "cv.waitKey(0)\n",
    "cv.destroyAllWindows()"
   ]
  },
  {
   "cell_type": "code",
   "execution_count": null,
   "id": "27294bce",
   "metadata": {},
   "outputs": [],
   "source": [
    "haar_cascade=cv.CascadeClassifier(\"haarcascade_frontalface_default.xml\")\n",
    "faces_rect=haar_cascade.detectMultiScale(gray_img, scaleFactor=1.1,\n",
    "                                         minNeighbors=3)\n",
    "\n",
    "print(f\"Number of faces detected: {len(faces_rect)}\")\n",
    "\n",
    "for (x, y, w, h) in faces_rect:\n",
    "  cv.rectangle(img, (x, y), (x+w, y+h), (0, 255, 0), 2)\n",
    "\n",
    "cv.imshow(\"Detected Faces\", img)\n",
    "\n",
    "cv.waitKey(0)\n",
    "cv.destroyAllWindows()"
   ]
  },
  {
   "cell_type": "markdown",
   "id": "ba9ced0f",
   "metadata": {},
   "source": [
    "### Face Detection with Multiple Faces"
   ]
  },
  {
   "cell_type": "code",
   "execution_count": null,
   "id": "d4e70a93",
   "metadata": {},
   "outputs": [],
   "source": [
    "haar_cascade=cv.CascadeClassifier(\"haarcascade_frontalface_default.xml\")\n",
    "faces_rect=haar_cascade.detectMultiScale(gray_img_grp, scaleFactor=1.1,\n",
    "                                         minNeighbors=3)\n",
    "\n",
    "print(f\"Number of faces detected: {len(faces_rect)}\")\n",
    "\n",
    "for (x, y, w, h) in faces_rect:\n",
    "  cv.rectangle(grp_img, (x, y), (x+w, y+h), (0, 255, 0), 2)\n",
    "\n",
    "cv.imshow(\"Detected Faces\", grp_img)\n",
    "\n",
    "cv.waitKey(0)\n",
    "cv.destroyAllWindows()"
   ]
  },
  {
   "cell_type": "markdown",
   "id": "752d86a2",
   "metadata": {},
   "source": [
    "Actually 5 faces but we are getting 7 because the parts which are look alikes as face are also detected as face which causes some noise. This can be solved by adjusting the scaleFactor and minNeighbors."
   ]
  },
  {
   "cell_type": "code",
   "execution_count": null,
   "id": "7541a84c",
   "metadata": {},
   "outputs": [],
   "source": [
    "haar_cascade=cv.CascadeClassifier(\"haarcascade_frontalface_default.xml\")\n",
    "faces_rect=haar_cascade.detectMultiScale(gray_img_grp, scaleFactor=1.1,\n",
    "                                         minNeighbors=7)\n",
    "\n",
    "print(f\"Number of faces detected: {len(faces_rect)}\")\n",
    "\n",
    "for (x, y, w, h) in faces_rect:\n",
    "  cv.rectangle(grp_img, (x, y), (x+w, y+h), (0, 255, 0), 2)\n",
    "\n",
    "cv.imshow(\"Detected Faces\", grp_img)\n",
    "\n",
    "cv.waitKey(0)\n",
    "cv.destroyAllWindows()"
   ]
  },
  {
   "cell_type": "code",
   "execution_count": null,
   "id": "75781efd",
   "metadata": {},
   "outputs": [],
   "source": [
    "haar_cascade=cv.CascadeClassifier(\"haarcascade_frontalface_default.xml\")\n",
    "faces_rect=haar_cascade.detectMultiScale(gray_img_grp_1, scaleFactor=1.1,\n",
    "                                         minNeighbors=1)\n",
    "\n",
    "print(f\"Number of faces detected: {len(faces_rect)}\")\n",
    "\n",
    "for (x, y, w, h) in faces_rect:\n",
    "  cv.rectangle(grp_img_1, (x, y), (x+w, y+h), (0, 255, 0), 2)\n",
    "\n",
    "cv.imshow(\"Detected Faces\", grp_img_1)\n",
    "\n",
    "cv.waitKey(0)\n",
    "cv.destroyAllWindows()"
   ]
  }
 ],
 "metadata": {
  "kernelspec": {
   "display_name": "Python 3",
   "language": "python",
   "name": "python3"
  },
  "language_info": {
   "codemirror_mode": {
    "name": "ipython",
    "version": 3
   },
   "file_extension": ".py",
   "mimetype": "text/x-python",
   "name": "python",
   "nbconvert_exporter": "python",
   "pygments_lexer": "ipython3",
   "version": "3.12.10"
  }
 },
 "nbformat": 4,
 "nbformat_minor": 5
}
