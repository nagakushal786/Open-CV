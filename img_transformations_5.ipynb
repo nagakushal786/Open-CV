{
 "cells": [
  {
   "cell_type": "markdown",
   "id": "a0b92fe5",
   "metadata": {},
   "source": [
    "## Image transformations"
   ]
  },
  {
   "cell_type": "code",
   "execution_count": 3,
   "id": "c83be9e5",
   "metadata": {},
   "outputs": [],
   "source": [
    "import cv2 as cv\n",
    "import numpy as np"
   ]
  },
  {
   "cell_type": "code",
   "execution_count": 2,
   "id": "0f131721",
   "metadata": {},
   "outputs": [],
   "source": [
    "img=cv.imread(\"Photos/park.jpg\")"
   ]
  },
  {
   "cell_type": "markdown",
   "id": "3f120445",
   "metadata": {},
   "source": [
    "### Translation of an Image"
   ]
  },
  {
   "cell_type": "markdown",
   "id": "64aa6542",
   "metadata": {},
   "source": [
    "Translation means shifting the image along x and y axes."
   ]
  },
  {
   "cell_type": "code",
   "execution_count": 6,
   "id": "c447af35",
   "metadata": {},
   "outputs": [],
   "source": [
    "def transform_img(img, x, y):\n",
    "  trans_mat=np.float32([[1, 0, x], [0, 1, y]])\n",
    "  dimensions=(img.shape[1], img.shape[0])\n",
    "  return cv.warpAffine(img, trans_mat, dimensions)\n",
    "\n",
    "# -x ---> Left\n",
    "# -y ---> Up\n",
    "#  x ---> Right\n",
    "#  y ---> Bottom\n",
    " \n",
    "transformed_img=transform_img(img, -100, -100)\n",
    "cv.imshow(\"Transformed Image\", transformed_img)\n",
    "\n",
    "cv.waitKey(0)\n",
    "cv.destroyAllWindows()"
   ]
  },
  {
   "cell_type": "markdown",
   "id": "86c165bd",
   "metadata": {},
   "source": [
    "### Rotation of an Image"
   ]
  },
  {
   "cell_type": "code",
   "execution_count": 8,
   "id": "48e8c616",
   "metadata": {},
   "outputs": [],
   "source": [
    "def rotate_img(img, angle, rotPoint=None):\n",
    "  (height, width)=img.shape[:2]\n",
    "\n",
    "  if rotPoint==None:\n",
    "    rotPoint=(width//2, height//2)\n",
    "\n",
    "  rot_mat=cv.getRotationMatrix2D(rotPoint, angle, scale=1.0)\n",
    "  dimensions=(width, height)\n",
    "\n",
    "  return cv.warpAffine(img, rot_mat, dimensions)\n",
    "\n",
    "# +angle ---> anti-clockwise\n",
    "# -angle ---> clockwise\n",
    "\n",
    "rotated_img=rotate_img(img, -45)\n",
    "cv.imshow(\"Rotated Image\", rotated_img)\n",
    "\n",
    "cv.waitKey(0)\n",
    "cv.destroyAllWindows()"
   ]
  },
  {
   "cell_type": "markdown",
   "id": "9b7724b5",
   "metadata": {},
   "source": [
    "### Flipping an Image"
   ]
  },
  {
   "cell_type": "code",
   "execution_count": 11,
   "id": "410ad9b6",
   "metadata": {},
   "outputs": [],
   "source": [
    "#  0 ---> Flip vertically\n",
    "#  1 ---> Flip horizontally\n",
    "# -1 ---> Flip both vertically and horizontally\n",
    "\n",
    "flipped_img=cv.flip(img, -1)\n",
    "cv.imshow(\"Flipped Image\", flipped_img)\n",
    "\n",
    "cv.waitKey(0)\n",
    "cv.destroyAllWindows()"
   ]
  }
 ],
 "metadata": {
  "kernelspec": {
   "display_name": "Python 3",
   "language": "python",
   "name": "python3"
  },
  "language_info": {
   "codemirror_mode": {
    "name": "ipython",
    "version": 3
   },
   "file_extension": ".py",
   "mimetype": "text/x-python",
   "name": "python",
   "nbconvert_exporter": "python",
   "pygments_lexer": "ipython3",
   "version": "3.12.10"
  }
 },
 "nbformat": 4,
 "nbformat_minor": 5
}
