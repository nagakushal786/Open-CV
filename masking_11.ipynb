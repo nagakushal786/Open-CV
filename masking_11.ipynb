{
 "cells": [
  {
   "cell_type": "markdown",
   "id": "7a714144",
   "metadata": {},
   "source": [
    "## Masking"
   ]
  },
  {
   "cell_type": "code",
   "execution_count": null,
   "id": "c214b7fa",
   "metadata": {},
   "outputs": [],
   "source": [
    "import cv2 as cv"
   ]
  },
  {
   "cell_type": "code",
   "execution_count": null,
   "id": "86513337",
   "metadata": {},
   "outputs": [],
   "source": [
    "img=cv.imread(\"Photos/cats.jpg\")\n",
    "cv.imshow(\"Cats\", img)\n",
    "\n",
    "cv.waitKey(0)\n",
    "cv.destroyAllWindows()"
   ]
  },
  {
   "cell_type": "markdown",
   "id": "24e0ab0f",
   "metadata": {},
   "source": [
    "Masking essentially allows us to focus on certain parts of an image that we would like to focus on."
   ]
  },
  {
   "cell_type": "code",
   "execution_count": null,
   "id": "0422ea0b",
   "metadata": {},
   "outputs": [],
   "source": [
    "import numpy as np\n",
    "\n",
    "blank_img=np.zeros(img.shape[:2], dtype='uint8')"
   ]
  },
  {
   "cell_type": "code",
   "execution_count": null,
   "id": "d1f87c28",
   "metadata": {},
   "outputs": [],
   "source": [
    "# Circle Mask\n",
    "mask=cv.circle(blank_img, (img.shape[1]//2, img.shape[0]//2), 100, 255, -1)\n",
    "cv.imshow(\"Circle Mask\", mask)\n",
    "\n",
    "cv.waitKey(0)\n",
    "cv.destroyAllWindows()"
   ]
  },
  {
   "cell_type": "code",
   "execution_count": null,
   "id": "374203d4",
   "metadata": {},
   "outputs": [],
   "source": [
    "masked_img=cv.bitwise_and(img, img, mask=mask)\n",
    "cv.imshow(\"Masked Image\", masked_img)\n",
    "\n",
    "cv.waitKey(0)\n",
    "cv.destroyAllWindows()"
   ]
  },
  {
   "cell_type": "code",
   "execution_count": null,
   "id": "99f8c36e",
   "metadata": {},
   "outputs": [],
   "source": [
    "img_1=cv.imread(\"Photos/cats_2.jpg\")\n",
    "cv.imshow(\"Cats_2\", img_1)\n",
    "\n",
    "cv.waitKey(0)\n",
    "cv.destroyAllWindows()"
   ]
  },
  {
   "cell_type": "code",
   "execution_count": null,
   "id": "1cc84dd0",
   "metadata": {},
   "outputs": [],
   "source": [
    "blank_img_1=np.zeros(img_1.shape[:2], dtype='uint8')"
   ]
  },
  {
   "cell_type": "code",
   "execution_count": null,
   "id": "d5bf127a",
   "metadata": {},
   "outputs": [],
   "source": [
    "# Rectangle Mask\n",
    "mask_rect=cv.rectangle(blank_img_1, (img_1.shape[1]//2, img_1.shape[0]//2), (img_1.shape[1]//2+100, img_1.shape[0]//2+100), 255, -1)\n",
    "cv.imshow(\"Rectangle Mask\", mask_rect)\n",
    "\n",
    "cv.waitKey(0)\n",
    "cv.destroyAllWindows()"
   ]
  },
  {
   "cell_type": "code",
   "execution_count": null,
   "id": "ac306903",
   "metadata": {},
   "outputs": [],
   "source": [
    "masked_img_1=cv.bitwise_and(img_1, img_1, mask=mask_rect)\n",
    "cv.imshow(\"Masked Image\", masked_img_1)\n",
    "\n",
    "cv.waitKey(0)\n",
    "cv.destroyAllWindows()"
   ]
  },
  {
   "cell_type": "code",
   "execution_count": null,
   "id": "400f424a",
   "metadata": {},
   "outputs": [],
   "source": [
    "circle=cv.circle(blank_img.copy(), (img.shape[1]//2+45, img.shape[0]//2), 100, 255, -1)\n",
    "rectangle=cv.rectangle(blank_img.copy(), (30, 30), (370, 370), 255, -1)\n",
    "\n",
    "weird_shape=cv.bitwise_and(circle, rectangle)\n",
    "cv.imshow(\"Some Shape\", weird_shape)\n",
    "\n",
    "cv.waitKey(0)\n",
    "cv.destroyAllWindows()"
   ]
  },
  {
   "cell_type": "code",
   "execution_count": null,
   "id": "16e3781d",
   "metadata": {},
   "outputs": [],
   "source": [
    "weird_mask=cv.bitwise_and(img, img, mask=weird_shape)\n",
    "cv.imshow(\"Some mask\", weird_mask)\n",
    "\n",
    "cv.waitKey(0)\n",
    "cv.destroyAllWindows()"
   ]
  }
 ],
 "metadata": {
  "kernelspec": {
   "display_name": "Python 3",
   "language": "python",
   "name": "python3"
  },
  "language_info": {
   "codemirror_mode": {
    "name": "ipython",
    "version": 3
   },
   "file_extension": ".py",
   "mimetype": "text/x-python",
   "name": "python",
   "nbconvert_exporter": "python",
   "pygments_lexer": "ipython3",
   "version": "3.12.10"
  }
 },
 "nbformat": 4,
 "nbformat_minor": 5
}
