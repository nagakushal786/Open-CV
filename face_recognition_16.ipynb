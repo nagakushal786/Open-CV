{
 "cells": [
  {
   "cell_type": "markdown",
   "id": "b7d8ea6f",
   "metadata": {},
   "source": [
    "## Face Recognition"
   ]
  },
  {
   "cell_type": "code",
   "execution_count": null,
   "id": "64a17fa5",
   "metadata": {},
   "outputs": [],
   "source": [
    "import cv2 as cv\n",
    "import numpy as np"
   ]
  },
  {
   "cell_type": "code",
   "execution_count": null,
   "id": "8712a6b8",
   "metadata": {},
   "outputs": [],
   "source": [
    "haar_cascade=cv.CascadeClassifier(\"haarcascade_frontalface_default.xml\")"
   ]
  },
  {
   "cell_type": "code",
   "execution_count": null,
   "id": "a2478b02",
   "metadata": {},
   "outputs": [],
   "source": [
    "face_recognizer=cv.face.LBPHFaceRecognizer_create()"
   ]
  },
  {
   "cell_type": "code",
   "execution_count": null,
   "id": "ad1caa71",
   "metadata": {},
   "outputs": [],
   "source": [
    "features=np.load(\"features.npy\", allow_pickle=True)\n",
    "labels=np.load(\"labels.npy\", allow_pickle=True)\n",
    "face_recognizer.read(\"face_trained.yml\")"
   ]
  },
  {
   "cell_type": "code",
   "execution_count": null,
   "id": "8fbdfe5e",
   "metadata": {},
   "outputs": [],
   "source": [
    "people=[\"Ben_Afflek\", \"Elton_John\", \"Jerry_Seinfield\", \"Madonna\", \"Mindy_Kaling\"]"
   ]
  },
  {
   "cell_type": "code",
   "execution_count": null,
   "id": "f3130d7f",
   "metadata": {},
   "outputs": [],
   "source": [
    "img=cv.imread(\"Faces/val/elton_john/1.jpg\")\n",
    "gray_img=cv.cvtColor(img, cv.COLOR_BGR2GRAY)\n",
    "cv.imshow(\"Person\", gray_img)\n",
    "\n",
    "cv.waitKey(0)\n",
    "cv.destroyAllWindows()"
   ]
  },
  {
   "cell_type": "code",
   "execution_count": null,
   "id": "18a2db56",
   "metadata": {},
   "outputs": [],
   "source": [
    "faces_rect=haar_cascade.detectMultiScale(gray_img, 1.1, 4)"
   ]
  },
  {
   "cell_type": "code",
   "execution_count": null,
   "id": "ba8e9adf",
   "metadata": {},
   "outputs": [],
   "source": [
    "for (x, y, w, h) in faces_rect:\n",
    "  faces_roi=gray_img[y:y+h, x:x+w]\n",
    "\n",
    "  label, confidence=face_recognizer.predict(faces_roi)\n",
    "  print(f\"Label={people[label]} with a confidence of {confidence}\")\n",
    "\n",
    "  cv.putText(img, str(people[label]), (20, 20), cv.FONT_HERSHEY_COMPLEX, 1.0, (0, 255, 0), 2)\n",
    "  cv.rectangle(img, (x, y), (x+w, y+h), (0, 255, 0), 2)\n",
    "\n",
    "cv.imshow(\"Detected Face\", img)\n",
    "\n",
    "cv.waitKey(0)\n",
    "cv.destroyAllWindows()"
   ]
  },
  {
   "cell_type": "markdown",
   "id": "930664be",
   "metadata": {},
   "source": [
    "We are getting pretty good results but every image we are testing is not giving the correct output."
   ]
  }
 ],
 "metadata": {
  "kernelspec": {
   "display_name": "Python 3",
   "language": "python",
   "name": "python3"
  },
  "language_info": {
   "codemirror_mode": {
    "name": "ipython",
    "version": 3
   },
   "file_extension": ".py",
   "mimetype": "text/x-python",
   "name": "python",
   "nbconvert_exporter": "python",
   "pygments_lexer": "ipython3",
   "version": "3.12.10"
  }
 },
 "nbformat": 4,
 "nbformat_minor": 5
}
