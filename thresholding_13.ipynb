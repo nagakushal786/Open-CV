{
 "cells": [
  {
   "cell_type": "markdown",
   "id": "b5475c6f",
   "metadata": {},
   "source": [
    "## Thresholding or Binarizing"
   ]
  },
  {
   "cell_type": "markdown",
   "id": "9ab278a3",
   "metadata": {},
   "source": [
    "* Thresholding is a binary realisation of the image i.e; converting an image to binary image where 0 is black and 255 is white.\n",
    "\n",
    "* We will take an image and a threshold value. Now we will compare each pixel of the image with the threshold value. If the pixel intensity is less than threshold value, then we set the pixel intensity to 0 else to 255."
   ]
  },
  {
   "cell_type": "code",
   "execution_count": null,
   "id": "e7928a38",
   "metadata": {},
   "outputs": [],
   "source": [
    "import cv2 as cv"
   ]
  },
  {
   "cell_type": "code",
   "execution_count": null,
   "id": "711a129c",
   "metadata": {},
   "outputs": [],
   "source": [
    "img=cv.imread(\"Photos/cats.jpg\")\n",
    "cv.imshow(\"Cats\", img)\n",
    "\n",
    "cv.waitKey(0)\n",
    "cv.destroyAllWindows()"
   ]
  },
  {
   "cell_type": "code",
   "execution_count": null,
   "id": "10ace646",
   "metadata": {},
   "outputs": [],
   "source": [
    "gray_img=cv.cvtColor(img, cv.COLOR_BGR2GRAY)\n",
    "cv.imshow(\"Gray Image\", gray_img)\n",
    "\n",
    "cv.waitKey(0)\n",
    "cv.destroyAllWindows()"
   ]
  },
  {
   "cell_type": "markdown",
   "id": "8eebbab0",
   "metadata": {},
   "source": [
    "### Simple Thresholding"
   ]
  },
  {
   "cell_type": "code",
   "execution_count": null,
   "id": "4272d8cd",
   "metadata": {},
   "outputs": [],
   "source": [
    "threshold, thresh=cv.threshold(gray_img, 150, 255, cv.THRESH_BINARY)\n",
    "cv.imshow(\"Simple Threshold Image\", thresh)\n",
    "print(threshold)\n",
    "\n",
    "cv.waitKey(0)\n",
    "cv.destroyAllWindows()"
   ]
  },
  {
   "cell_type": "code",
   "execution_count": null,
   "id": "70010f5e",
   "metadata": {},
   "outputs": [],
   "source": [
    "threshold, thresh_inv=cv.threshold(gray_img, 150, 255, cv.THRESH_BINARY_INV)\n",
    "cv.imshow(\"Simple Threshold Inverted Image\", thresh_inv)\n",
    "\n",
    "cv.waitKey(0)\n",
    "cv.destroyAllWindows()"
   ]
  },
  {
   "cell_type": "markdown",
   "id": "92d9c75c",
   "metadata": {},
   "source": [
    "### Adaptive Thresholding"
   ]
  },
  {
   "cell_type": "markdown",
   "id": "72fa4cde",
   "metadata": {},
   "source": [
    "* In simple thresholding, we only manually set the threshold value. In advanced opencv systems this might not be the optimal way. So in adaptive thresholding, computer itself calculates the optimal threshold and binarizes the image.\n",
    "\n",
    "* In adaptive thresholding, we define a kernel size of the window that is drawn on the image. In the below example, opencv computes the mean over the neighbourhood pixels and finds the optimal threshold value for that specific part and then slides right and does the same thing.\n",
    "\n",
    "* Parameter C for fine tuning of the thresholded image."
   ]
  },
  {
   "cell_type": "code",
   "execution_count": null,
   "id": "96ea67fd",
   "metadata": {},
   "outputs": [],
   "source": [
    "# Adaptive Mean method\n",
    "adaptive_thresh=cv.adaptiveThreshold(gray_img, 255,\n",
    "                                     cv.ADAPTIVE_THRESH_MEAN_C,\n",
    "                                     cv.THRESH_BINARY, 11, 3)\n",
    "cv.imshow(\"Adaptive Threshold Image\", adaptive_thresh)\n",
    "\n",
    "cv.waitKey(0)\n",
    "cv.destroyAllWindows()"
   ]
  },
  {
   "cell_type": "code",
   "execution_count": null,
   "id": "d0e10e5f",
   "metadata": {},
   "outputs": [],
   "source": [
    "adaptive_thresh_inv=cv.adaptiveThreshold(gray_img, 255,\n",
    "                                     cv.ADAPTIVE_THRESH_MEAN_C,\n",
    "                                     cv.THRESH_BINARY_INV, 11, 3)\n",
    "cv.imshow(\"Adaptive Threshold Image\", adaptive_thresh_inv)\n",
    "\n",
    "cv.waitKey(0)\n",
    "cv.destroyAllWindows()"
   ]
  },
  {
   "cell_type": "code",
   "execution_count": null,
   "id": "a3edde4c",
   "metadata": {},
   "outputs": [],
   "source": [
    "# Gaussian Mean method\n",
    "adaptive_thresh=cv.adaptiveThreshold(gray_img, 255,\n",
    "                                     cv.ADAPTIVE_THRESH_GAUSSIAN_C,\n",
    "                                     cv.THRESH_BINARY, 11, 3)\n",
    "cv.imshow(\"Adaptive Threshold Image\", adaptive_thresh)\n",
    "\n",
    "cv.waitKey(0)\n",
    "cv.destroyAllWindows()"
   ]
  }
 ],
 "metadata": {
  "kernelspec": {
   "display_name": "Python 3",
   "language": "python",
   "name": "python3"
  },
  "language_info": {
   "codemirror_mode": {
    "name": "ipython",
    "version": 3
   },
   "file_extension": ".py",
   "mimetype": "text/x-python",
   "name": "python",
   "nbconvert_exporter": "python",
   "pygments_lexer": "ipython3",
   "version": "3.12.10"
  }
 },
 "nbformat": 4,
 "nbformat_minor": 5
}
