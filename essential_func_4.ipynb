{
 "cells": [
  {
   "cell_type": "markdown",
   "id": "2990655c",
   "metadata": {},
   "source": [
    "## Essential functions of OpenCV"
   ]
  },
  {
   "cell_type": "code",
   "execution_count": 1,
   "id": "6be4bfdd",
   "metadata": {},
   "outputs": [],
   "source": [
    "import cv2 as cv"
   ]
  },
  {
   "cell_type": "markdown",
   "id": "1bcff255",
   "metadata": {},
   "source": [
    "### Conversion to Gray scale Image"
   ]
  },
  {
   "cell_type": "markdown",
   "id": "6c792bcb",
   "metadata": {},
   "source": [
    "This conversion is to observe the pixel distribution rather than the colour."
   ]
  },
  {
   "cell_type": "code",
   "execution_count": 2,
   "id": "ff04413e",
   "metadata": {},
   "outputs": [],
   "source": [
    "img=cv.imread(\"Photos/park.jpg\")\n",
    "\n",
    "gray_img=cv.cvtColor(img, cv.COLOR_BGR2GRAY)\n",
    "cv.imshow(\"Gray Scale Image\", gray_img)\n",
    "\n",
    "cv.waitKey(0)\n",
    "cv.destroyAllWindows()"
   ]
  },
  {
   "cell_type": "markdown",
   "id": "84aad684",
   "metadata": {},
   "source": [
    "### Blur an Image"
   ]
  },
  {
   "cell_type": "markdown",
   "id": "7018519c",
   "metadata": {},
   "source": [
    "By blurring an image, we can remove some of the noise that exists in that image."
   ]
  },
  {
   "cell_type": "code",
   "execution_count": 3,
   "id": "0e66ca45",
   "metadata": {},
   "outputs": [],
   "source": [
    "img=cv.imread(\"Photos/park.jpg\")\n",
    "\n",
    "# ksize: Kernel size must be an odd numbered tuple\n",
    "# cv.BORDER_DEFAULT - access to neighbour pixels beyond image edges\n",
    "blur_img=cv.GaussianBlur(img, (7, 7), cv.BORDER_DEFAULT)\n",
    "cv.imshow(\"Blurred Image\", blur_img)\n",
    "\n",
    "cv.waitKey(0)\n",
    "cv.destroyAllWindows()"
   ]
  },
  {
   "cell_type": "markdown",
   "id": "b23031aa",
   "metadata": {},
   "source": [
    "### Edge Cascade"
   ]
  },
  {
   "cell_type": "markdown",
   "id": "a7c7cef1",
   "metadata": {},
   "source": [
    "To detect the edges present in the image."
   ]
  },
  {
   "cell_type": "code",
   "execution_count": 5,
   "id": "0efc5cdb",
   "metadata": {},
   "outputs": [],
   "source": [
    "img=cv.imread(\"Photos/park.jpg\")\n",
    "\n",
    "edge_detect=cv.Canny(img, 125, 175)\n",
    "cv.imshow(\"Canny Edges\", edge_detect)\n",
    "\n",
    "# To reduce the edges\n",
    "edge_detect=cv.Canny(blur_img, 125, 175)\n",
    "cv.imshow(\"Blurred Canny Edges\", edge_detect)\n",
    "\n",
    "cv.waitKey(0)\n",
    "cv.destroyAllWindows()"
   ]
  },
  {
   "cell_type": "markdown",
   "id": "3e5cc617",
   "metadata": {},
   "source": [
    "### Dilating the Image"
   ]
  },
  {
   "cell_type": "markdown",
   "id": "f1dc03f9",
   "metadata": {},
   "source": [
    "Dilating an image means growing or thickening the white regions in a binary image."
   ]
  },
  {
   "cell_type": "code",
   "execution_count": 9,
   "id": "7afdeebc",
   "metadata": {},
   "outputs": [],
   "source": [
    "dilated_img=cv.dilate(edge_detect, (7, 7), iterations=3)\n",
    "cv.imshow(\"Dilated Image\", dilated_img)\n",
    "\n",
    "cv.waitKey(0)\n",
    "cv.destroyAllWindows()"
   ]
  },
  {
   "cell_type": "markdown",
   "id": "7e3803c1",
   "metadata": {},
   "source": [
    "### Eroding an Image"
   ]
  },
  {
   "cell_type": "markdown",
   "id": "f3a1c22c",
   "metadata": {},
   "source": [
    "Eroding an image means shrinking the white regions in a binary image."
   ]
  },
  {
   "cell_type": "code",
   "execution_count": 10,
   "id": "0c63698b",
   "metadata": {},
   "outputs": [],
   "source": [
    "eroded_img=cv.erode(dilated_img, (7, 7), iterations=3)\n",
    "cv.imshow(\"Eroded Image\", eroded_img)\n",
    "\n",
    "cv.waitKey(0)\n",
    "cv.destroyAllWindows()"
   ]
  },
  {
   "cell_type": "markdown",
   "id": "dff5ed94",
   "metadata": {},
   "source": [
    "### Resizing an Image"
   ]
  },
  {
   "cell_type": "code",
   "execution_count": 14,
   "id": "c3160424",
   "metadata": {},
   "outputs": [],
   "source": [
    "img=cv.imread(\"Photos/park.jpg\")\n",
    "\n",
    "resized_img=cv.resize(img, (500, 500))\n",
    "cv.imshow(\"Resized Image\", resized_img)\n",
    "\n",
    "# Downscaling the image\n",
    "resized_img=cv.resize(img, (500, 500), interpolation=cv.INTER_AREA)\n",
    "cv.imshow(\"Resized Image\", resized_img)\n",
    "\n",
    "# Upscaling the image\n",
    "# We can use INTER_LINEAR and INTER_CUBIC - CUBIC slow but high quality\n",
    "resized_img=cv.resize(img, (500, 500), interpolation=cv.INTER_CUBIC)\n",
    "cv.imshow(\"Resized Image\", resized_img)\n",
    "\n",
    "cv.waitKey(0)\n",
    "cv.destroyAllWindows()"
   ]
  },
  {
   "cell_type": "markdown",
   "id": "b301ea23",
   "metadata": {},
   "source": [
    "### Cropping an Image"
   ]
  },
  {
   "cell_type": "code",
   "execution_count": 15,
   "id": "a3fa8c7e",
   "metadata": {},
   "outputs": [],
   "source": [
    "img=cv.imread(\"Photos/park.jpg\")\n",
    "\n",
    "cropped_img=img[50:200, 150:400]\n",
    "cv.imshow(\"Cropped Image\", cropped_img)\n",
    "\n",
    "cv.waitKey(0)\n",
    "cv.destroyAllWindows()"
   ]
  }
 ],
 "metadata": {
  "kernelspec": {
   "display_name": "Python 3",
   "language": "python",
   "name": "python3"
  },
  "language_info": {
   "codemirror_mode": {
    "name": "ipython",
    "version": 3
   },
   "file_extension": ".py",
   "mimetype": "text/x-python",
   "name": "python",
   "nbconvert_exporter": "python",
   "pygments_lexer": "ipython3",
   "version": "3.12.10"
  }
 },
 "nbformat": 4,
 "nbformat_minor": 5
}
